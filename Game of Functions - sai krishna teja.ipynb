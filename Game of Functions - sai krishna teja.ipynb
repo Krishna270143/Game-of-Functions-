{
 "cells": [
  {
   "cell_type": "markdown",
   "id": "077077e4",
   "metadata": {},
   "source": [
    "# Game of \"Functions\""
   ]
  },
  {
   "cell_type": "code",
   "execution_count": 1,
   "id": "83f79523",
   "metadata": {},
   "outputs": [
    {
     "name": "stdout",
     "output_type": "stream",
     "text": [
      "20\n"
     ]
    }
   ],
   "source": [
    "def summ(num):                # defining the function\n",
    "    sum = 0\n",
    "    for i in num:              # adding the given inputs \n",
    "        sum+=i \n",
    "    return sum\n",
    "num = (8,2,3,0,7)           # input\n",
    "print(summ(num))\n"
   ]
  },
  {
   "cell_type": "code",
   "execution_count": null,
   "id": "e283ff9d",
   "metadata": {
    "scrolled": true
   },
   "outputs": [],
   "source": [
    "Test cases:"
   ]
  },
  {
   "cell_type": "code",
   "execution_count": 2,
   "id": "0e1273dd",
   "metadata": {},
   "outputs": [
    {
     "name": "stdout",
     "output_type": "stream",
     "text": [
      "66\n"
     ]
    }
   ],
   "source": [
    "def summ(num):\n",
    "    sum = 0\n",
    "    for i in num:\n",
    "        sum+=i\n",
    "    return sum\n",
    "num = (10,25,14,0,17)\n",
    "print(summ(num))"
   ]
  },
  {
   "cell_type": "code",
   "execution_count": 3,
   "id": "ac6c3b6f",
   "metadata": {},
   "outputs": [
    {
     "name": "stdout",
     "output_type": "stream",
     "text": [
      "29.5\n"
     ]
    }
   ],
   "source": [
    "def summ(num):\n",
    "    sum = 0\n",
    "    for i in num:\n",
    "        sum+=i\n",
    "    return sum\n",
    "num = (10,0.5,-10,0,29)\n",
    "print(summ(num))"
   ]
  },
  {
   "cell_type": "code",
   "execution_count": null,
   "id": "83615584",
   "metadata": {},
   "outputs": [],
   "source": []
  }
 ],
 "metadata": {
  "kernelspec": {
   "display_name": "Python 3 (ipykernel)",
   "language": "python",
   "name": "python3"
  },
  "language_info": {
   "codemirror_mode": {
    "name": "ipython",
    "version": 3
   },
   "file_extension": ".py",
   "mimetype": "text/x-python",
   "name": "python",
   "nbconvert_exporter": "python",
   "pygments_lexer": "ipython3",
   "version": "3.10.0"
  }
 },
 "nbformat": 4,
 "nbformat_minor": 5
}
